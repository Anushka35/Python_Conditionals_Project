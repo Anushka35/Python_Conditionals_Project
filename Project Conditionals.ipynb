{
 "cells": [
  {
   "cell_type": "code",
   "execution_count": 44,
   "id": "d5292027",
   "metadata": {},
   "outputs": [
    {
     "name": "stdout",
     "output_type": "stream",
     "text": [
      "Ground Price: 60.0\n",
      "Drone Price: 120.0\n",
      "weight of your package: 10\n",
      "Cheapest Shipping method with price: Ground shipping \n",
      " 60.0\n"
     ]
    }
   ],
   "source": [
    "#step 1\n",
    "#Take input from user\n",
    "\n",
    "weight=10\n",
    "\n",
    "#Ground Shipping\n",
    "if weight<=2:\n",
    "    ground_price=(1.50*weight)+20\n",
    "    print(\"Ground Price:\",ground_price)\n",
    "elif 2<weight<=6:\n",
    "    ground_price=(3.00*weight)+20\n",
    "    print(\"Ground Price:\",ground_price)\n",
    "elif 6<weight<=10:\n",
    "    ground_price=(4.00*weight)+20\n",
    "    print(\"Ground Price:\",ground_price)\n",
    "else:\n",
    "    ground_price=(4.75*weight)+20\n",
    "    print(\"Ground Shipping Price:\",ground_price)\n",
    "    \n",
    "#Ground shipping Premium\n",
    "if weight>22:\n",
    "    ground_price_premium=125.00\n",
    "    print(\"Ground Price with premium:\",ground_price_premium)\n",
    "    \n",
    "#Drone shipping\n",
    "if weight<=2:\n",
    "    drone_price=1.50*3*weight\n",
    "    print(\"Drone Price:\",drone_price)\n",
    "elif 2<weight<=6:\n",
    "    drone_price=(3.00*3*weight)\n",
    "    print(\"Drone Price:\",drone_price)\n",
    "elif 6<weight<=10:\n",
    "    drone_price=(4.00*3*weight)\n",
    "    print(\"Drone Price:\",drone_price)\n",
    "else:\n",
    "    drone_price=(4.75*3*weight)\n",
    "    print(\"Drone Shipping Price:\",drone_price)\n",
    "    \n",
    "\n",
    "print(\"weight of your package:\",weight)\n",
    "if ground_price<ground_price_premium and drone_price:\n",
    "    print(\"Cheapest Shipping method with price: Ground shipping \\n\",ground_price)\n",
    "elif ground_price_premium<ground_price and drone_price:\n",
    "    print(\"Cheapest Shipping method with price: Ground shipping Premium\\n\",ground_price_premium)\n",
    "else:\n",
    "    print(\"Cheapest Shipping method with price: drone shipping \\n\",drone_price)"
   ]
  }
 ],
 "metadata": {
  "kernelspec": {
   "display_name": "Python 3 (ipykernel)",
   "language": "python",
   "name": "python3"
  },
  "language_info": {
   "codemirror_mode": {
    "name": "ipython",
    "version": 3
   },
   "file_extension": ".py",
   "mimetype": "text/x-python",
   "name": "python",
   "nbconvert_exporter": "python",
   "pygments_lexer": "ipython3",
   "version": "3.9.13"
  }
 },
 "nbformat": 4,
 "nbformat_minor": 5
}
